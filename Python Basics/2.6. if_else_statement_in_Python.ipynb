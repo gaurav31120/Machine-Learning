{
  "nbformat": 4,
  "nbformat_minor": 0,
  "metadata": {
    "colab": {
      "provenance": [],
      "authorship_tag": "ABX9TyN9H2uTQQZUprnPOmpP4Lhc",
      "include_colab_link": true
    },
    "kernelspec": {
      "name": "python3",
      "display_name": "Python 3"
    },
    "language_info": {
      "name": "python"
    }
  },
  "cells": [
    {
      "cell_type": "markdown",
      "metadata": {
        "id": "view-in-github",
        "colab_type": "text"
      },
      "source": [
        "<a href=\"https://colab.research.google.com/github/gaurav31120/Machine-Learning/blob/main/Python%20Basics/2.6.%20if_else_statement_in_Python.ipynb\" target=\"_parent\"><img src=\"https://colab.research.google.com/assets/colab-badge.svg\" alt=\"Open In Colab\"/></a>"
      ]
    },
    {
      "cell_type": "markdown",
      "source": [
        "2.6. if else statement in Python"
      ],
      "metadata": {
        "id": "foiD-O-r6rph"
      }
    },
    {
      "cell_type": "markdown",
      "source": [
        "# Simple if else statement\n"
      ],
      "metadata": {
        "id": "bQppTbC1616R"
      }
    },
    {
      "cell_type": "code",
      "execution_count": 1,
      "metadata": {
        "colab": {
          "base_uri": "https://localhost:8080/"
        },
        "id": "4bxMmRZZ6qQ9",
        "outputId": "d9eb6513-ddb2-4739-ddbd-e8203aab3be6"
      },
      "outputs": [
        {
          "output_type": "stream",
          "name": "stdout",
          "text": [
            "b is the greatest number\n"
          ]
        }
      ],
      "source": [
        "a= 30\n",
        "b = 50\n",
        "\n",
        "if(a>b):\n",
        "  print('a is the greatest number')\n",
        "else:\n",
        "  print('b is the greatest number')"
      ]
    },
    {
      "cell_type": "code",
      "source": [
        "a = int(input('Enter the first number : '))\n",
        "b = int(input('Enter the second number : '))\n",
        "\n",
        "if(a>b):\n",
        "  print('First number is the greatest number')\n",
        "else:\n",
        "  print('Second number is the greatest number')\n"
      ],
      "metadata": {
        "colab": {
          "base_uri": "https://localhost:8080/"
        },
        "id": "UV3ZIqJ37hyL",
        "outputId": "69f78c28-ef8d-4f0f-bfba-7798ff9ec4db"
      },
      "execution_count": 3,
      "outputs": [
        {
          "output_type": "stream",
          "name": "stdout",
          "text": [
            "Enter the first number : 676\n",
            "Enter the second number : 564\n",
            "First number is the greatest number\n"
          ]
        }
      ]
    },
    {
      "cell_type": "markdown",
      "source": [
        "# if elif else statement"
      ],
      "metadata": {
        "id": "P1-AKnTV8B6E"
      }
    },
    {
      "cell_type": "code",
      "source": [
        "a = 1555\n",
        "b = 256\n",
        "c = 30\n",
        "\n",
        "if(b<a>c):\n",
        "  print('a is the greatest number')\n",
        "elif(a<b>c):\n",
        "  print('b number is the greatest number')\n",
        "else:\n",
        "  print('c number is the greatest number')"
      ],
      "metadata": {
        "colab": {
          "base_uri": "https://localhost:8080/"
        },
        "id": "TAliD6Od7ykw",
        "outputId": "a96847b1-aedc-4196-918c-5f4e337d0811"
      },
      "execution_count": 9,
      "outputs": [
        {
          "output_type": "stream",
          "name": "stdout",
          "text": [
            "a is the greatest number\n"
          ]
        }
      ]
    },
    {
      "cell_type": "markdown",
      "source": [
        "# nested if statement"
      ],
      "metadata": {
        "id": "Mbwp67Rb88WM"
      }
    },
    {
      "cell_type": "code",
      "source": [
        "a = 560\n",
        "b = 608\n",
        "c = 700\n",
        "\n",
        "if(a>b):\n",
        "  if(a>c):\n",
        "    print('a is the greatest number')\n",
        "  else:\n",
        "    print('c is the greatest number')\n",
        "else:\n",
        "  if(b>c):\n",
        "    print('b is the greatest number')\n",
        "  else:\n",
        "    print('c is the greatest number')\n"
      ],
      "metadata": {
        "colab": {
          "base_uri": "https://localhost:8080/"
        },
        "id": "k6vlyOru8mQB",
        "outputId": "37171df2-880d-48bd-bfa5-3f382cdd40d5"
      },
      "execution_count": 15,
      "outputs": [
        {
          "output_type": "stream",
          "name": "stdout",
          "text": [
            "c is the greatest number\n"
          ]
        }
      ]
    },
    {
      "cell_type": "code",
      "source": [],
      "metadata": {
        "id": "xZVCgCVL9bwH"
      },
      "execution_count": null,
      "outputs": []
    }
  ]
}