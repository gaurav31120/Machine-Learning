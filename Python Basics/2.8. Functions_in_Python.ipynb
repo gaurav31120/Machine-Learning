{
  "nbformat": 4,
  "nbformat_minor": 0,
  "metadata": {
    "colab": {
      "provenance": [],
      "authorship_tag": "ABX9TyM6f0Swog6pzStCzS7B2fv7",
      "include_colab_link": true
    },
    "kernelspec": {
      "name": "python3",
      "display_name": "Python 3"
    },
    "language_info": {
      "name": "python"
    }
  },
  "cells": [
    {
      "cell_type": "markdown",
      "metadata": {
        "id": "view-in-github",
        "colab_type": "text"
      },
      "source": [
        "<a href=\"https://colab.research.google.com/github/gaurav31120/Machine-Learning/blob/main/Python%20Basics/2.8.%20Functions_in_Python.ipynb\" target=\"_parent\"><img src=\"https://colab.research.google.com/assets/colab-badge.svg\" alt=\"Open In Colab\"/></a>"
      ]
    },
    {
      "cell_type": "markdown",
      "source": [
        "  Functions:\n",
        "  Function is a block of code that can be reused in a program."
      ],
      "metadata": {
        "id": "AtWGQJm6E4CI"
      }
    },
    {
      "cell_type": "markdown",
      "source": [
        "# Factorial of a Number\n",
        "\n",
        "  Factorial of a number is the product of all the positive integers less than or equal to the given number\n",
        "\n",
        "  Factorial of 5 = 5 * 4 * 3 * 2 * 1"
      ],
      "metadata": {
        "id": "spQTl22vFHdn"
      }
    },
    {
      "cell_type": "code",
      "execution_count": 3,
      "metadata": {
        "colab": {
          "base_uri": "https://localhost:8080/"
        },
        "id": "INEH0tKHEwwY",
        "outputId": "f42f2dd7-c1da-4f2e-96a8-7cbcd4290969"
      },
      "outputs": [
        {
          "output_type": "stream",
          "name": "stdout",
          "text": [
            "Enter a number to find its factorial : 5\n",
            "The factorial of  5  is 120\n"
          ]
        }
      ],
      "source": [
        "number = int(input('Enter a number to find its factorial : '))\n",
        "\n",
        "factorial = 1\n",
        "\n",
        "if number == 0:\n",
        "  print(' The factorial of 0 is 1')\n",
        "\n",
        "else:\n",
        "  for i in range(1, number+1):  # range(1,6) ----> 1,2,3,4,5\n",
        "    factorial = factorial*i\n",
        "  print('The factorial of ',number,' is',factorial)"
      ]
    },
    {
      "cell_type": "code",
      "source": [],
      "metadata": {
        "id": "uAEfOWXQIRJ6"
      },
      "execution_count": null,
      "outputs": []
    },
    {
      "cell_type": "markdown",
      "source": [
        "# Factorial Function"
      ],
      "metadata": {
        "id": "wWgFVDPLHwcd"
      }
    },
    {
      "cell_type": "code",
      "source": [
        "def factorial_value(num):\n",
        "  factorial = 1\n",
        "\n",
        "  if  num == 0:\n",
        "    return factorial\n",
        "\n",
        "  else:\n",
        "    for i in range(1,num+1):\n",
        "      factorial = factorial * i\n",
        "    return factorial"
      ],
      "metadata": {
        "id": "clGGU6XVGuqU"
      },
      "execution_count": 5,
      "outputs": []
    },
    {
      "cell_type": "code",
      "source": [
        "print(factorial_value(5))"
      ],
      "metadata": {
        "colab": {
          "base_uri": "https://localhost:8080/"
        },
        "id": "uB-d8co-I4e7",
        "outputId": "f1dc5ce3-7fe3-4807-ec94-f52ade5ce557"
      },
      "execution_count": 6,
      "outputs": [
        {
          "output_type": "stream",
          "name": "stdout",
          "text": [
            "120\n"
          ]
        }
      ]
    },
    {
      "cell_type": "code",
      "source": [
        "print(factorial_value(3))"
      ],
      "metadata": {
        "colab": {
          "base_uri": "https://localhost:8080/"
        },
        "id": "hpnMHWwaJALp",
        "outputId": "21da20db-9ec1-49d8-e5bb-be758b1f0a85"
      },
      "execution_count": 7,
      "outputs": [
        {
          "output_type": "stream",
          "name": "stdout",
          "text": [
            "6\n"
          ]
        }
      ]
    },
    {
      "cell_type": "code",
      "source": [],
      "metadata": {
        "id": "mqlc1GnMJIaX"
      },
      "execution_count": null,
      "outputs": []
    }
  ]
}