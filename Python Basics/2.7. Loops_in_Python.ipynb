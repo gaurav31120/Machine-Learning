{
  "nbformat": 4,
  "nbformat_minor": 0,
  "metadata": {
    "colab": {
      "provenance": [],
      "authorship_tag": "ABX9TyOxxTNZfKTch44ztO22+qjS",
      "include_colab_link": true
    },
    "kernelspec": {
      "name": "python3",
      "display_name": "Python 3"
    },
    "language_info": {
      "name": "python"
    }
  },
  "cells": [
    {
      "cell_type": "markdown",
      "metadata": {
        "id": "view-in-github",
        "colab_type": "text"
      },
      "source": [
        "<a href=\"https://colab.research.google.com/github/gaurav31120/Machine-Learning/blob/main/Python%20Basics/2.7.%20Loops_in_Python.ipynb\" target=\"_parent\"><img src=\"https://colab.research.google.com/assets/colab-badge.svg\" alt=\"Open In Colab\"/></a>"
      ]
    },
    {
      "cell_type": "markdown",
      "source": [
        "2.7. Loops in Python\n",
        "\n"
      ],
      "metadata": {
        "id": "kUlPqWsQAqgZ"
      }
    },
    {
      "cell_type": "markdown",
      "source": [
        "# For loop\n",
        "\n",
        "here, we know how many times the loop will execute\n"
      ],
      "metadata": {
        "id": "yAQ6Z7DWAuFz"
      }
    },
    {
      "cell_type": "code",
      "execution_count": 2,
      "metadata": {
        "colab": {
          "base_uri": "https://localhost:8080/"
        },
        "id": "wgz5wZBl_EzV",
        "outputId": "c1881cd2-f616-4f1f-8026-94fcd6f409a4"
      },
      "outputs": [
        {
          "name": "stdout",
          "output_type": "stream",
          "text": [
            "Enter the price of the laptop : 20000\n"
          ]
        }
      ],
      "source": [
        "laptop = int(input('Enter the price of the laptop : '))"
      ]
    },
    {
      "cell_type": "code",
      "source": [
        "laptop1 = int(input('Enter the price of the laptop : '))\n",
        "laptop2 = int(input('Enter the price of the laptop : '))\n",
        "laptop3 = int(input('Enter the price of the laptop : '))\n",
        "laptop4 = int(input('Enter the price of the laptop : '))\n",
        "laptop5 = int(input('Enter the price of the laptop : '))"
      ],
      "metadata": {
        "colab": {
          "base_uri": "https://localhost:8080/"
        },
        "id": "gXZ2O-iYA544",
        "outputId": "bc8e2ef5-8f79-4362-ca77-342c27cfb14d"
      },
      "execution_count": 3,
      "outputs": [
        {
          "name": "stdout",
          "output_type": "stream",
          "text": [
            "Enter the price of the laptop : 20000\n",
            "Enter the price of the laptop : 30000\n",
            "Enter the price of the laptop : 40000\n",
            "Enter the price of the laptop : 50000\n",
            "Enter the price of the laptop : 60000\n"
          ]
        }
      ]
    },
    {
      "cell_type": "code",
      "source": [
        "for i in range(5):    # 0,1,2,3,4\n",
        "  laptop_price = int(input('Enter the price of the laptop : '))"
      ],
      "metadata": {
        "colab": {
          "base_uri": "https://localhost:8080/"
        },
        "id": "49CNwep0BPlF",
        "outputId": "9afe7b5d-9106-4356-f9af-919816f0b00c"
      },
      "execution_count": 4,
      "outputs": [
        {
          "name": "stdout",
          "output_type": "stream",
          "text": [
            "Enter the price of the laptop : 20000\n",
            "Enter the price of the laptop : 30000\n",
            "Enter the price of the laptop : 40000\n",
            "Enter the price of the laptop : 50000\n",
            "Enter the price of the laptop : 60000\n"
          ]
        }
      ]
    },
    {
      "cell_type": "code",
      "source": [
        "numbers = [50,100,150,200]\n",
        "\n",
        "print(numbers[0])\n",
        "print(numbers[1])\n",
        "print(numbers[2])\n",
        "print(numbers[3])"
      ],
      "metadata": {
        "colab": {
          "base_uri": "https://localhost:8080/"
        },
        "id": "g3JLwfQzBmyB",
        "outputId": "7a7caafe-817e-452e-9959-d599d0b45f3b"
      },
      "execution_count": 6,
      "outputs": [
        {
          "output_type": "stream",
          "name": "stdout",
          "text": [
            "50\n",
            "100\n",
            "150\n",
            "200\n"
          ]
        }
      ]
    },
    {
      "cell_type": "code",
      "source": [
        "numbers = [50,100,150,200]\n",
        "\n",
        "for i in numbers:\n",
        "  print(i)"
      ],
      "metadata": {
        "colab": {
          "base_uri": "https://localhost:8080/"
        },
        "id": "4Vx6P1h8CFBY",
        "outputId": "a63dbf27-f40a-4abe-84a4-90c5b6f3f9e4"
      },
      "execution_count": 7,
      "outputs": [
        {
          "output_type": "stream",
          "name": "stdout",
          "text": [
            "50\n",
            "100\n",
            "150\n",
            "200\n"
          ]
        }
      ]
    },
    {
      "cell_type": "markdown",
      "source": [
        "# While loop\n",
        "\n",
        "here, we do not know how many times the loop will execute\n",
        "\n",
        "Syntax : while condition:\n",
        "\n",
        "            statement"
      ],
      "metadata": {
        "id": "kD4aa6laCg58"
      }
    },
    {
      "cell_type": "code",
      "source": [
        "i = 0\n",
        "\n",
        "while i<10:\n",
        "  print(i)\n",
        "  i+= 1"
      ],
      "metadata": {
        "colab": {
          "base_uri": "https://localhost:8080/"
        },
        "id": "BbU3gnJVCT-n",
        "outputId": "49452cac-9663-4cbb-a7d4-2236f127a9be"
      },
      "execution_count": 9,
      "outputs": [
        {
          "output_type": "stream",
          "name": "stdout",
          "text": [
            "0\n",
            "1\n",
            "2\n",
            "3\n",
            "4\n",
            "5\n",
            "6\n",
            "7\n",
            "8\n",
            "9\n"
          ]
        }
      ]
    },
    {
      "cell_type": "code",
      "source": [
        "i = 5\n",
        "\n",
        "while i<3: # this condition will bee false everytime. so, no output will come.\n",
        "  print(i)\n",
        "  i+= 1"
      ],
      "metadata": {
        "id": "R6tOeXHKDBJ-"
      },
      "execution_count": 10,
      "outputs": []
    },
    {
      "cell_type": "code",
      "source": [],
      "metadata": {
        "id": "R4ewSNdLDh-s"
      },
      "execution_count": null,
      "outputs": []
    }
  ]
}