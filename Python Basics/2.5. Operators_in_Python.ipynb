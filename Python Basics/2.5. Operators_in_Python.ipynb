{
  "nbformat": 4,
  "nbformat_minor": 0,
  "metadata": {
    "colab": {
      "provenance": [],
      "authorship_tag": "ABX9TyNtRlTO+CtpjIQT6a6RPs9V",
      "include_colab_link": true
    },
    "kernelspec": {
      "name": "python3",
      "display_name": "Python 3"
    },
    "language_info": {
      "name": "python"
    }
  },
  "cells": [
    {
      "cell_type": "markdown",
      "metadata": {
        "id": "view-in-github",
        "colab_type": "text"
      },
      "source": [
        "<a href=\"https://colab.research.google.com/github/gaurav31120/Machine-Learning/blob/main/Python%20Basics/2.5.%20Operators_in_Python.ipynb\" target=\"_parent\"><img src=\"https://colab.research.google.com/assets/colab-badge.svg\" alt=\"Open In Colab\"/></a>"
      ]
    },
    {
      "cell_type": "markdown",
      "source": [
        "2.5. Operator in Python."
      ],
      "metadata": {
        "id": "yaY7QZwH5qcB"
      }
    },
    {
      "cell_type": "markdown",
      "source": [
        "# Operators in Python:\n",
        "  1. Arithmetic operators\n",
        "  2. Assignment operators\n",
        "  3. Com[arison operators\n",
        "  4. Logical operators\n",
        "  5. Identity operatos\n",
        "  6. Membership operators\n"
      ],
      "metadata": {
        "id": "5laLYIDxyYfx"
      }
    },
    {
      "cell_type": "markdown",
      "source": [
        "# 1.Arithmetic operators\n"
      ],
      "metadata": {
        "id": "5zVTdHHWy8oR"
      }
    },
    {
      "cell_type": "code",
      "execution_count": 9,
      "metadata": {
        "colab": {
          "base_uri": "https://localhost:8080/"
        },
        "id": "3D6SM7DAyXQv",
        "outputId": "3775eaa7-20e2-4716-f99e-884cb50b05f8"
      },
      "outputs": [
        {
          "output_type": "stream",
          "name": "stdout",
          "text": [
            "sum =  30\n",
            "difference =  10\n",
            "product =  200\n",
            "quotient =  2.0\n",
            "exponent =  10240000000000\n",
            "remainder =  0\n"
          ]
        }
      ],
      "source": [
        "num_1 = 20\n",
        "num_2 = 10\n",
        "\n",
        "# addition\n",
        "sum = num_1 + num_2\n",
        "print('sum = ', sum)\n",
        "\n",
        "# subtraction\n",
        "diff = num_1 - num_2\n",
        "print('difference = ', diff)\n",
        "\n",
        "# multiplication\n",
        "product = num_1 * num_2\n",
        "print('product = ', product)\n",
        "\n",
        "# division\n",
        "quotient = num_1 / num_2\n",
        "print('quotient = ', quotient)\n",
        "\n",
        "# exponent\n",
        "exp = num_1 ** num_2 # 20^10\n",
        "print('exponent = ', exp)\n",
        "\n",
        "# modulus\n",
        "mod = num_1 % num_2\n",
        "print('remainder = ', mod )"
      ]
    },
    {
      "cell_type": "markdown",
      "source": [
        "# 2. Assignment operator\n",
        "    +=\n",
        "    -=\n",
        "    *=\n",
        "    **=\n",
        "    /=\n",
        "    %=\n",
        "    "
      ],
      "metadata": {
        "id": "ydvn6vg20zlS"
      }
    },
    {
      "cell_type": "code",
      "source": [
        "a  = 5\n",
        "print(a)"
      ],
      "metadata": {
        "colab": {
          "base_uri": "https://localhost:8080/"
        },
        "id": "8yHpmDt8zLe1",
        "outputId": "caf6303a-05d7-4539-e714-eb4f17486159"
      },
      "execution_count": 10,
      "outputs": [
        {
          "output_type": "stream",
          "name": "stdout",
          "text": [
            "5\n"
          ]
        }
      ]
    },
    {
      "cell_type": "code",
      "source": [
        "a = 5\n",
        "a += 5 # a=a+5\n",
        "print(5)"
      ],
      "metadata": {
        "colab": {
          "base_uri": "https://localhost:8080/"
        },
        "id": "FzmMyuLe07AS",
        "outputId": "4bc361c2-a906-4400-a972-c1f0c06ec1b4"
      },
      "execution_count": 11,
      "outputs": [
        {
          "output_type": "stream",
          "name": "stdout",
          "text": [
            "5\n"
          ]
        }
      ]
    },
    {
      "cell_type": "code",
      "source": [
        "b = 5\n",
        "b -= 2 # b =b-2\n",
        "print(b)"
      ],
      "metadata": {
        "colab": {
          "base_uri": "https://localhost:8080/"
        },
        "id": "425dpKH01AXy",
        "outputId": "13fbe7eb-b7e5-4008-c88c-1af40742e713"
      },
      "execution_count": 12,
      "outputs": [
        {
          "output_type": "stream",
          "name": "stdout",
          "text": [
            "3\n"
          ]
        }
      ]
    },
    {
      "cell_type": "markdown",
      "source": [
        "# 3. Comparision operator - compares two variables\n",
        "    == equal to operator\n",
        "    != not equal to\n",
        "    >  greater than\n",
        "    < less than\n",
        "    >= greater than or equal to\n",
        "    <= leass than or equal to"
      ],
      "metadata": {
        "id": "PYUHFZK71fr7"
      }
    },
    {
      "cell_type": "code",
      "source": [
        "a = 5\n",
        "b = 10\n",
        "\n",
        "print(a == b)\n",
        "print(a != b)\n",
        "print(a > b)\n",
        "print(a < b)\n",
        "print(a >= b)\n",
        "print(a <= b)"
      ],
      "metadata": {
        "colab": {
          "base_uri": "https://localhost:8080/"
        },
        "id": "lYQcBc801LT5",
        "outputId": "56a76824-a0d5-4d24-d743-86ef1bfeeeda"
      },
      "execution_count": 16,
      "outputs": [
        {
          "output_type": "stream",
          "name": "stdout",
          "text": [
            "False\n",
            "True\n",
            "False\n",
            "True\n",
            "False\n",
            "True\n"
          ]
        }
      ]
    },
    {
      "cell_type": "markdown",
      "source": [
        "# 4. Logical operators\n",
        "    and\n",
        "\n",
        "    or\n",
        "\n",
        "    not"
      ],
      "metadata": {
        "id": "12mMALCb2W7W"
      }
    },
    {
      "cell_type": "code",
      "source": [
        "a = 10\n",
        "\n",
        "print( a>20 and a>5)\n",
        "print( a>20 or a>5)\n",
        "print( not(a>8 and a>5))"
      ],
      "metadata": {
        "colab": {
          "base_uri": "https://localhost:8080/"
        },
        "id": "dvhVgZRo1oev",
        "outputId": "c3e59136-8395-4326-fbf2-f231cd8cd49e"
      },
      "execution_count": 19,
      "outputs": [
        {
          "output_type": "stream",
          "name": "stdout",
          "text": [
            "False\n",
            "True\n",
            "False\n"
          ]
        }
      ]
    },
    {
      "cell_type": "markdown",
      "source": [
        "# 5. Identity operator\n",
        "    \n",
        "    is - checks whether both values are same ---- return true if both values are same\n",
        "\n",
        "    is not - checks whether both values are different ---- return true if both values are different"
      ],
      "metadata": {
        "id": "OmLhn4Cq29op"
      }
    },
    {
      "cell_type": "code",
      "source": [
        "x = 5\n",
        "y = 5\n",
        "\n",
        "print(x is y)"
      ],
      "metadata": {
        "colab": {
          "base_uri": "https://localhost:8080/"
        },
        "id": "KnoevXuW2lDV",
        "outputId": "9f2bf554-73eb-4da5-8471-dc50123b0f12"
      },
      "execution_count": 20,
      "outputs": [
        {
          "output_type": "stream",
          "name": "stdout",
          "text": [
            "True\n"
          ]
        }
      ]
    },
    {
      "cell_type": "code",
      "source": [
        "x = 5\n",
        "y = 10\n",
        "\n",
        "print(x is y)"
      ],
      "metadata": {
        "colab": {
          "base_uri": "https://localhost:8080/"
        },
        "id": "ZHo6ALdc3HaM",
        "outputId": "92b86936-a262-4a9c-e6a6-2c1f50846896"
      },
      "execution_count": 21,
      "outputs": [
        {
          "output_type": "stream",
          "name": "stdout",
          "text": [
            "False\n"
          ]
        }
      ]
    },
    {
      "cell_type": "code",
      "source": [
        "x = 5\n",
        "y = 5\n",
        "\n",
        "print(x is not y)"
      ],
      "metadata": {
        "colab": {
          "base_uri": "https://localhost:8080/"
        },
        "id": "cuLV-AIh3QYl",
        "outputId": "62733ef2-b198-44cf-ee4b-8ce4af6afb1a"
      },
      "execution_count": 23,
      "outputs": [
        {
          "output_type": "stream",
          "name": "stdout",
          "text": [
            "False\n"
          ]
        }
      ]
    },
    {
      "cell_type": "code",
      "source": [
        "x = 5\n",
        "y = 10\n",
        "\n",
        "print(x is not y)"
      ],
      "metadata": {
        "colab": {
          "base_uri": "https://localhost:8080/"
        },
        "id": "NBIeoogY3YWZ",
        "outputId": "ce669c8c-9ac1-4770-bbbe-71b2111ec0ad"
      },
      "execution_count": 24,
      "outputs": [
        {
          "output_type": "stream",
          "name": "stdout",
          "text": [
            "True\n"
          ]
        }
      ]
    },
    {
      "cell_type": "markdown",
      "source": [
        "# 6. Membership operator - it checks wheather the first element a is in the object(list) of the second element c or not\n",
        "Syntax: a in c\n",
        "        a not in c\n",
        "  \n",
        "    in      Synntax - a in c\n",
        "\n",
        "    not in   Synntax - a not in c\n",
        "\n",
        "*   List item\n",
        "*   List item\n",
        "\n"
      ],
      "metadata": {
        "id": "tTm59k3O31Kk"
      }
    },
    {
      "cell_type": "code",
      "source": [
        "a= 5\n",
        "b = 10\n",
        "\n",
        "c = [1,2,3,4,5]\n",
        "print(a in c)\n",
        "print(b in c)"
      ],
      "metadata": {
        "colab": {
          "base_uri": "https://localhost:8080/"
        },
        "id": "uSJDn8NX3dbe",
        "outputId": "46462894-d29c-4a2d-ab79-1d38cacfc700"
      },
      "execution_count": 25,
      "outputs": [
        {
          "output_type": "stream",
          "name": "stdout",
          "text": [
            "True\n",
            "False\n"
          ]
        }
      ]
    },
    {
      "cell_type": "code",
      "source": [],
      "metadata": {
        "id": "aDuolZz14D5N"
      },
      "execution_count": null,
      "outputs": []
    }
  ]
}